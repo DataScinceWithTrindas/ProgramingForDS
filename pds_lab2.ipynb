{
 "cells": [
  {
   "cell_type": "markdown",
   "metadata": {},
   "source": [
    "# Programming for Data Science\n",
    "\n",
    "## Lab 1"
   ]
  },
  {
   "cell_type": "markdown",
   "metadata": {},
   "source": [
    "### Variables, Operators, and Data Structures\n",
    "\n",
    "\n",
    "<b>1</b>: In the following cell we have declared multiple variables. Can you identify the type of each variable?"
   ]
  },
  {
   "cell_type": "code",
   "execution_count": 10,
   "metadata": {},
   "outputs": [],
   "source": [
    "a = 15\n",
    "b = 24.5\n",
    "c = \"Knock Knock\"\n",
    "d = \"Who's there?\"\n",
    "e = \"Turnip\"\n",
    "f = \"Turnip Who?\"\n",
    "g = \"Turnip the volume, I love this song!\""
   ]
  },
  {
   "cell_type": "code",
   "execution_count": 11,
   "metadata": {},
   "outputs": [
    {
     "name": "stdout",
     "output_type": "stream",
     "text": [
      "<class 'int'>\n",
      "<class 'float'>\n",
      "<class 'str'>\n",
      "<class 'str'>\n",
      "<class 'str'>\n",
      "<class 'str'>\n",
      "<class 'str'>\n"
     ]
    }
   ],
   "source": [
    "print(type(a))\n",
    "print(type(b))\n",
    "print(type(c))\n",
    "print(type(d))\n",
    "print(type(e))\n",
    "print(type(f))\n",
    "print(type(g))\n"
   ]
  },
  {
   "cell_type": "markdown",
   "metadata": {},
   "source": [
    "<b>2</b>: What is the ouput of a times b? And what is the variable type of the output?"
   ]
  },
  {
   "cell_type": "code",
   "execution_count": 9,
   "metadata": {},
   "outputs": [
    {
     "name": "stdout",
     "output_type": "stream",
     "text": [
      "367.5\n",
      "<class 'float'>\n"
     ]
    }
   ],
   "source": [
    "a1 = a * b\n",
    "print(a1)\n",
    "print(type(a1))"
   ]
  },
  {
   "cell_type": "markdown",
   "metadata": {},
   "source": [
    "<b>3</b>: Divide variable a by 2, what is the output type?"
   ]
  },
  {
   "cell_type": "code",
   "execution_count": 12,
   "metadata": {},
   "outputs": [
    {
     "name": "stdout",
     "output_type": "stream",
     "text": [
      "7.5\n",
      "<class 'float'>\n"
     ]
    }
   ],
   "source": [
    "a2 = a / 2\n",
    "print(a2)\n",
    "print(type(a2))"
   ]
  },
  {
   "cell_type": "markdown",
   "metadata": {},
   "source": [
    "**3.1** What if you use the floor operator?"
   ]
  },
  {
   "cell_type": "code",
   "execution_count": 13,
   "metadata": {},
   "outputs": [
    {
     "name": "stdout",
     "output_type": "stream",
     "text": [
      "7\n",
      "<class 'int'>\n"
     ]
    }
   ],
   "source": [
    "a3 = a // 2\n",
    "print(a3)\n",
    "print(type(a3))"
   ]
  },
  {
   "cell_type": "markdown",
   "metadata": {},
   "source": [
    "**4:** If you multiply b by 2, what is the output type?"
   ]
  },
  {
   "cell_type": "code",
   "execution_count": 14,
   "metadata": {},
   "outputs": [
    {
     "name": "stdout",
     "output_type": "stream",
     "text": [
      "49.0\n",
      "<class 'float'>\n"
     ]
    }
   ],
   "source": [
    "a4 = b * 2\n",
    "print(a4)\n",
    "print(type(a4))"
   ]
  },
  {
   "cell_type": "markdown",
   "metadata": {},
   "source": [
    "<b>5</b>: Use the print function to print a sentence that concatenates c,d,e,f, and g. Don't forget to add a line break separator."
   ]
  },
  {
   "cell_type": "code",
   "execution_count": 21,
   "metadata": {},
   "outputs": [
    {
     "name": "stdout",
     "output_type": "stream",
     "text": [
      "Knock Knock\n",
      "Who's there?\n",
      "Turnip\n",
      "Turnip Who?\n",
      "Turnip the volume, I love this song!\n"
     ]
    }
   ],
   "source": [
    "print(c + \"\\n\" + d + \"\\n\" + e + \"\\n\" + f + \"\\n\" + g)\n"
   ]
  },
  {
   "cell_type": "markdown",
   "metadata": {},
   "source": [
    "<b>6</b>: Consider the list X, declared below. What is the lenght of X? Print the 5th and 9th element of the list.\n",
    "\n",
    "X = [2, 1, 21, 13, 233, 144, 0, 3, 8, 5, 89, 34, 1, 55]"
   ]
  },
  {
   "cell_type": "code",
   "execution_count": 41,
   "metadata": {},
   "outputs": [],
   "source": [
    "X = [2, 1, 21, 13, 233, 144, 0, 3, 8, 5, 89, 34, 1, 55]"
   ]
  },
  {
   "cell_type": "code",
   "execution_count": 42,
   "metadata": {},
   "outputs": [
    {
     "name": "stdout",
     "output_type": "stream",
     "text": [
      "14\n",
      "144\n",
      "5\n"
     ]
    }
   ],
   "source": [
    "print(len(X))\n",
    "print(X[5])\n",
    "print(X[9])"
   ]
  },
  {
   "cell_type": "markdown",
   "metadata": {},
   "source": [
    "<b>7</b>: List X hides a surprise. It seems that it was randomly shuffled before the class. Can you sort the list contents in ascending order? Make sure that X is sorted."
   ]
  },
  {
   "cell_type": "code",
   "execution_count": 43,
   "metadata": {},
   "outputs": [
    {
     "name": "stdout",
     "output_type": "stream",
     "text": [
      "[0, 1, 1, 2, 3, 5, 8, 13, 21, 34, 55, 89, 144, 233]\n"
     ]
    }
   ],
   "source": [
    "X.sort()\n",
    "print(X)\n"
   ]
  },
  {
   "cell_type": "markdown",
   "metadata": {},
   "source": [
    "**7.1** Find an alternative way to solve the previous exercise."
   ]
  },
  {
   "cell_type": "code",
   "execution_count": 44,
   "metadata": {},
   "outputs": [
    {
     "name": "stdout",
     "output_type": "stream",
     "text": [
      "[0, 1, 1, 2, 3, 5, 8, 13, 21, 34, 55, 89, 144, 233]\n"
     ]
    }
   ],
   "source": [
    "sorted_X = sorted(X)\n",
    "print(sorted_X)"
   ]
  },
  {
   "cell_type": "markdown",
   "metadata": {},
   "source": [
    "<b>8</b>: Hahaha, it seems that X stores the first 14 values (when starting from 0) of the Fibonacci sequence. Can you guess what are the next two values in the sequence?"
   ]
  },
  {
   "cell_type": "code",
   "execution_count": 45,
   "metadata": {},
   "outputs": [
    {
     "name": "stdout",
     "output_type": "stream",
     "text": [
      "377\n",
      "610\n"
     ]
    }
   ],
   "source": [
    "print(144 + 233)\n",
    "print(144 + 233 + 233)"
   ]
  },
  {
   "cell_type": "markdown",
   "metadata": {},
   "source": [
    "<b>9</b>: Append to the end of X the following two values of the Fibonacci sequence.\n",
    "Afterwards print the List and confirm that the values have been added successfuly.\n",
    "\n",
    "***Note: you should be able to do this only calling X and its elements by the index.***"
   ]
  },
  {
   "cell_type": "code",
   "execution_count": 46,
   "metadata": {},
   "outputs": [
    {
     "name": "stdout",
     "output_type": "stream",
     "text": [
      "[0, 1, 1, 2, 3, 5, 8, 13, 21, 34, 55, 89, 144, 233, 377, 610]\n"
     ]
    }
   ],
   "source": [
    "X.append(144 + 233)\n",
    "X.append(144 + 233 + 233)\n",
    "\n",
    "print(X)"
   ]
  },
  {
   "cell_type": "markdown",
   "metadata": {},
   "source": [
    "<b>10</b>: Now, suppose you show the sequence to your Math professor, who is a really opinionated and a believer that 0 should not be the first value of the sequence. He instructs you to remove it. Can you delete the value 0 from the list X? Show that you have successfuly removed the element 0."
   ]
  },
  {
   "cell_type": "code",
   "execution_count": 47,
   "metadata": {},
   "outputs": [
    {
     "name": "stdout",
     "output_type": "stream",
     "text": [
      "[1, 1, 2, 3, 5, 8, 13, 21, 34, 55, 89, 144, 233, 377, 610]\n"
     ]
    }
   ],
   "source": [
    "X.remove(0)\n",
    "print(X)"
   ]
  },
  {
   "cell_type": "markdown",
   "metadata": {},
   "source": [
    "<b>11</b>: Typecast the List X into a Tuple, and store the output in variable Y."
   ]
  },
  {
   "cell_type": "code",
   "execution_count": 48,
   "metadata": {},
   "outputs": [
    {
     "name": "stdout",
     "output_type": "stream",
     "text": [
      "(1, 1, 2, 3, 5, 8, 13, 21, 34, 55, 89, 144, 233, 377, 610)\n"
     ]
    }
   ],
   "source": [
    "Y = tuple(X)\n",
    "print(Y)"
   ]
  },
  {
   "cell_type": "markdown",
   "metadata": {},
   "source": [
    "<b>12</b>: What is the lenght of Y?"
   ]
  },
  {
   "cell_type": "code",
   "execution_count": 49,
   "metadata": {},
   "outputs": [
    {
     "name": "stdout",
     "output_type": "stream",
     "text": [
      "15\n"
     ]
    }
   ],
   "source": [
    "print(len(Y))"
   ]
  },
  {
   "cell_type": "markdown",
   "metadata": {},
   "source": [
    "<b>13</b>: Typecaste the List X into a Set. What is the size of the resulting Set?"
   ]
  },
  {
   "cell_type": "code",
   "execution_count": 50,
   "metadata": {},
   "outputs": [
    {
     "name": "stdout",
     "output_type": "stream",
     "text": [
      "{1, 2, 3, 34, 5, 610, 8, 233, 377, 13, 144, 21, 55, 89}\n",
      "14\n"
     ]
    }
   ],
   "source": [
    "X_set = set(X)\n",
    "size_of_set = len(X_set)\n",
    "print(X_set)\n",
    "print(size_of_set)"
   ]
  },
  {
   "cell_type": "markdown",
   "metadata": {},
   "source": [
    "**13.1** Why is the size of the set different from the size of the list and the tuple?"
   ]
  },
  {
   "cell_type": "markdown",
   "metadata": {},
   "source": [
    "Python only stores unique elements in sets. When converting a list or tuple with duplicate values to a set, the duplicates are removed."
   ]
  },
  {
   "cell_type": "markdown",
   "metadata": {},
   "source": [
    "<b>14</b>: Below you can find two variables declared: movies and actors. \n",
    "\n",
    "The variable movies stores a List with information about the movies a sequence of actors have played a role. That is, each entry is a List of movie titles in which a particular actor played a role. The actor is thus encoded in the index of the List movies.\n",
    "\n",
    "The variable actors is a dictionary that provides a map between an actor name (key) and the corresponding index in the list movies (value). Thus, it provides a quick way to access the list movies using the name of the actor."
   ]
  },
  {
   "cell_type": "code",
   "execution_count": 51,
   "metadata": {},
   "outputs": [],
   "source": [
    "movies = [\n",
    "    ['JFK', 'Sleepers', 'Mystic River', 'Diner', 'Tremors', 'Hollow Man', 'A Few Good Men', 'Apollo 13', 'X-Men: First Class', 'Footloose'],\n",
    "    ['Marjorie Prime','A Perfect Day','The Spoils Before Dying','Spoils of Babylon','Portlandia','The Secret Life of Words','Anchorman: The Legend of Ron Burgundy','Code 46','Mystic River','Austin Powers: The Spy Who Shagged Me','I.Q','The Shawshank Redemption','Short Cuts','Top Gun'],\n",
    "    ['Happy Feet 2','Happy Feet','Back To The Future 2','Lord Of The Rings : The fellowship of the ring','Lord Of The Rings : The two towers','Lord Of The Rings : Return Of The King','The Hobbit : The Battle Of Five Armies','The Hobbit : An Unexpected Journey ','Sin City','Spy Kids 3 : Game Over'],\n",
    "    ['Back to the Future','Back to the Future Part II ','Back to the Future Part III','Casualties of War ','The Hard Way','The Frighteners','Doc Hollywood','Greedy ','Teen Wolf ','Bright Lights, Big City'],\n",
    "    ['X-Men','The Lord of the Rings: The Fellowship of the Ring','The Lord of the Rings: The Two Towers','The Lord of the Rings: The Return of the King','Emile','X2','Eighteen','X-Men: The Last Stand','The Magic Roundabout','Flushed Away'],\n",
    "    ['I Am Sam.','Sweet Home Alabama.','Trapped.','Hansel & Gretel.','Uptown Girls.','The Cat In The Hat.','Man On Fire.','Nine Lives.','Hide And Seek.','War Of The Worlds.'],\n",
    "    ['Manhattan ','Ironweed','Out of Africa ','Silkwood','The French Lieutenants Woman','Julie & Julia','The Devil Wears Prada','The Iron Lady','Sophies Choice','Kramer vs. Kramer'],\n",
    "    ['The Thirteenth Year','The Flintstones in Viva Rock Vegas','The Safety of ObjectsPanic Room','Cold Creek Manor','Catch That Kid','Speak','Undertow','Fierce People','Zathura A Space Adventure'],\n",
    "    ['Cowboys & Aliens','Paranoia','Ender Game','Anchorman 2: The Legend Continues','The Expendables 3','The Age of Adaline','Star Wars: Episode VII - The Force Awakens','Blade Runner 2049','Star Wars: Episode IX - The Rise of Skywalker','The Call of the Wild'],\n",
    "    ['Harry Potter and the Philosophers Stone','Harry Potter and the Chamber of Secrets','Thunderpants','Harry Potter and the Prisoner of Azkaban','Harry Potter and the Goblet of Fire','Driving Lessons','Harry Potter and the Order of the Phoenix','Harry Potter and the Half-Blood Prince','Cherrybomb','Wild Target'],\n",
    "]\n",
    "actors = dict((\n",
    "    ('Kevin Bacon',1),\n",
    "    ('Tim Robbins',2),\n",
    "    ('Elijah Wood',3),\n",
    "    ('Michael J. Fox',4),\n",
    "    ('Ian McKellen',5),\n",
    "    ('Dakota Fannings',6),\n",
    "    ('Maryl Streep',7),\n",
    "    ('Kristen Stewart',8),\n",
    "    ('Harrison Ford',9),\n",
    "    ('Rupert Grint',10)\n",
    "))"
   ]
  },
  {
   "cell_type": "markdown",
   "metadata": {},
   "source": [
    "**14.1** Can you list all the actors names in the dictionary actors?"
   ]
  },
  {
   "cell_type": "code",
   "execution_count": 52,
   "metadata": {},
   "outputs": [
    {
     "name": "stdout",
     "output_type": "stream",
     "text": [
      "['Kevin Bacon', 'Tim Robbins', 'Elijah Wood', 'Michael J. Fox', 'Ian McKellen', 'Dakota Fannings', 'Maryl Streep', 'Kristen Stewart', 'Harrison Ford', 'Rupert Grint']\n"
     ]
    }
   ],
   "source": [
    "actor_names = list(actors.keys())\n",
    "print(actor_names)"
   ]
  },
  {
   "cell_type": "markdown",
   "metadata": {},
   "source": [
    "**14.2** Compare the lenght of the List movies with the maximum and minimum index value associated with an actor name. What do you conclude?"
   ]
  },
  {
   "cell_type": "code",
   "execution_count": 54,
   "metadata": {},
   "outputs": [
    {
     "name": "stdout",
     "output_type": "stream",
     "text": [
      "Length of the movies list: 10\n",
      "Maximum index value in actors dictionary: 10\n",
      "Minimum index value in actors dictionary 1\n"
     ]
    }
   ],
   "source": [
    "movies_length = len(movies)\n",
    "max_index = max(actors.values())\n",
    "min_index = min(actors.values())\n",
    "\n",
    "print(\"Length of the movies list:\", movies_length)\n",
    "print(\"Maximum index value in actors dictionary:\", max_index)\n",
    "print(\"Minimum index value in actors dictionary\", min_index)"
   ]
  },
  {
   "cell_type": "markdown",
   "metadata": {},
   "source": [
    "**14.3** Print the names of the movies in which Kevin Bacon played a role."
   ]
  },
  {
   "cell_type": "code",
   "execution_count": 56,
   "metadata": {},
   "outputs": [
    {
     "name": "stdout",
     "output_type": "stream",
     "text": [
      "JFK\n",
      "Marjorie Prime\n",
      "Happy Feet 2\n",
      "Back to the Future\n",
      "X-Men\n",
      "I Am Sam.\n",
      "Manhattan \n",
      "The Thirteenth Year\n",
      "Cowboys & Aliens\n",
      "Harry Potter and the Philosophers Stone\n"
     ]
    }
   ],
   "source": [
    "# 1st we get the index for kevin bacon\n",
    "kevin_bacon_index = actors[\"Kevin Bacon\"]\n",
    "# 2nd we find and print the names of the movies in wich kevin bacon played a role\n",
    "for movie_list in movies:\n",
    "    if kevin_bacon_index <= len(movie_list):\n",
    "        print(movie_list[kevin_bacon_index - 1]) #adjust for 0 based index"
   ]
  },
  {
   "cell_type": "markdown",
   "metadata": {},
   "source": [
    "**14.4** Can you identify in which movies have \"Kevin Bacon\" and \"Tim Robbins\" co-starred? <br>\n",
    "\n",
    "***Tip: Using Sets is quite handy for this task.***"
   ]
  },
  {
   "cell_type": "code",
   "execution_count": 57,
   "metadata": {},
   "outputs": [
    {
     "name": "stdout",
     "output_type": "stream",
     "text": [
      "Movies in which kevin and tim co-starred:\n"
     ]
    }
   ],
   "source": [
    "kevin_bacon_index = actors['Kevin Bacon']\n",
    "tim_robbins_index = actors[\"Tim Robbins\"]\n",
    "\n",
    "kevin_bacon_movies = set()\n",
    "tim_robbins_movies = set()\n",
    "\n",
    "for movie_list in movies:\n",
    "    if kevin_bacon_index <= len(movie_list):\n",
    "        kevin_bacon_movies.add(movie_list[kevin_bacon_index - 1])\n",
    "    if tim_robbins_index <= len(movie_list):\n",
    "        tim_robbins_movies.add(movie_list[tim_robbins_index - 1])\n",
    "\n",
    "co_starting_movies = kevin_bacon_movies.intersection(tim_robbins_movies)\n",
    "\n",
    "print(\"Movies in which kevin and tim co-starred:\")\n",
    "for movie in co_starting_movies:\n",
    "    print(movie)"
   ]
  },
  {
   "cell_type": "markdown",
   "metadata": {},
   "source": [
    "<b>15</b>: In the Lecture we have discussed how data sctructures might be mutable or immutable depending on if they allow for the user to change individual elements they store. Can you demonstrate, by example, if each of the following data structures -- Tuples, Lists, Dictionaries, and Sets -- are mutable or not?\n",
    "\n",
    "***Tip: To show that it is immutable, you just need to show that you can't change a value. Likewise, to show that it is mutable, you only need to show that you can indeed change a value.***"
   ]
  },
  {
   "cell_type": "code",
   "execution_count": null,
   "metadata": {},
   "outputs": [],
   "source": []
  },
  {
   "cell_type": "markdown",
   "metadata": {},
   "source": [
    "### Flow Control"
   ]
  },
  {
   "cell_type": "markdown",
   "metadata": {},
   "source": [
    "<b>16</b>: Write a program that, for an arbitrary choice of X and Y (with Y > X), prints all the even numbers in the range [X,Y]."
   ]
  },
  {
   "cell_type": "code",
   "execution_count": 60,
   "metadata": {},
   "outputs": [],
   "source": [
    "# Example values for X and Y\n",
    "X = 1\n",
    "Y = 15"
   ]
  },
  {
   "cell_type": "code",
   "execution_count": 63,
   "metadata": {
    "scrolled": true
   },
   "outputs": [
    {
     "name": "stdout",
     "output_type": "stream",
     "text": [
      "2\n",
      "4\n",
      "6\n",
      "8\n",
      "10\n",
      "12\n",
      "14\n"
     ]
    }
   ],
   "source": [
    "for number in range (X, Y + 1):\n",
    "    if number % 2 == 0:\n",
    "        print(number)"
   ]
  },
  {
   "cell_type": "markdown",
   "metadata": {},
   "source": [
    "<b>17</b>: Consider the tuples X and Y that are declared below. Write a program that identifies the indexes of the two lists that correspond to matching values.\n",
    "\n",
    "X = (1,2,3,4,5,6,7)\n",
    "Y = (7,2,3,10,2,8,9)"
   ]
  },
  {
   "cell_type": "code",
   "execution_count": null,
   "metadata": {},
   "outputs": [],
   "source": []
  },
  {
   "cell_type": "markdown",
   "metadata": {},
   "source": [
    "<b>18</b>: Write a computer program that computes the average of the values stored in list X"
   ]
  },
  {
   "cell_type": "code",
   "execution_count": null,
   "metadata": {},
   "outputs": [],
   "source": []
  },
  {
   "cell_type": "markdown",
   "metadata": {},
   "source": [
    "<b>19</b>: Write a computer program that computes the standard deviation of the values stored in list X"
   ]
  },
  {
   "cell_type": "code",
   "execution_count": null,
   "metadata": {},
   "outputs": [],
   "source": []
  },
  {
   "cell_type": "markdown",
   "metadata": {},
   "source": [
    "<b>20</b>: Write a computer program that computes the median of the values stored in a list X"
   ]
  },
  {
   "cell_type": "code",
   "execution_count": null,
   "metadata": {},
   "outputs": [],
   "source": []
  },
  {
   "cell_type": "markdown",
   "metadata": {},
   "source": [
    "## Python STL"
   ]
  },
  {
   "cell_type": "markdown",
   "metadata": {},
   "source": [
    "<b>21</b>: Use the OS module to list all the files in your current working folder"
   ]
  },
  {
   "cell_type": "code",
   "execution_count": null,
   "metadata": {
    "scrolled": true
   },
   "outputs": [],
   "source": [
    "# Part 1. we start by loading the OS module\n",
    "import os\n",
    "\n",
    "# and then we can call the method listdir() to print the files in y our working folder\n",
    "print(\"files in working directory: \",os.listdir())\n",
    "\n",
    "#additionally using the sys we can check which paths is your python using to load modules\n",
    "import sys\n",
    "print(\"paths: \",sys.path)"
   ]
  },
  {
   "cell_type": "code",
   "execution_count": null,
   "metadata": {},
   "outputs": [],
   "source": [
    "# alternatively we can use magic commands like follow \n",
    "%ls"
   ]
  },
  {
   "cell_type": "markdown",
   "metadata": {},
   "source": [
    "<b>22</b>: Use the Random module to create a list of length 100 with random floats (between 0 an 1)"
   ]
  },
  {
   "cell_type": "code",
   "execution_count": 1,
   "metadata": {},
   "outputs": [],
   "source": [
    "#We start by loading the random module \n",
    "import random"
   ]
  },
  {
   "cell_type": "code",
   "execution_count": null,
   "metadata": {},
   "outputs": [],
   "source": []
  },
  {
   "cell_type": "markdown",
   "metadata": {},
   "source": [
    "<b>23</b>:  Use the Math module to multiply each of the random numbers by 2 Pi"
   ]
  },
  {
   "cell_type": "code",
   "execution_count": 2,
   "metadata": {},
   "outputs": [],
   "source": [
    "#We start by loading the module math (also for Part 4.) \n",
    "import math"
   ]
  },
  {
   "cell_type": "code",
   "execution_count": null,
   "metadata": {},
   "outputs": [],
   "source": []
  },
  {
   "cell_type": "markdown",
   "metadata": {},
   "source": [
    "<b>24</b>: Use the Math module to obtain the Sin of each of those values"
   ]
  },
  {
   "cell_type": "code",
   "execution_count": null,
   "metadata": {},
   "outputs": [],
   "source": []
  },
  {
   "cell_type": "markdown",
   "metadata": {},
   "source": [
    "## Additional Exercises"
   ]
  },
  {
   "cell_type": "markdown",
   "metadata": {},
   "source": [
    "<b>Question</b>: With a given integral number n, write a program to generate a dictionary that contains (i, i*i) such that is an integral number between 1 and n (both included). and then the program should print the dictionary.\n",
    "\n",
    "Suppose the following input is supplied to the program: 8 <br>\n",
    "Then, the output should be:\n",
    "{1: 1, 2: 4, 3: 9, 4: 16, 5: 25, 6: 36, 7: 49, 8: 64}"
   ]
  },
  {
   "cell_type": "code",
   "execution_count": null,
   "metadata": {},
   "outputs": [],
   "source": []
  },
  {
   "cell_type": "markdown",
   "metadata": {},
   "source": [
    "<b>Question</b>: Write a program that accepts a comma separated sequence of words as input and prints the words in a comma-separated sequence after sorting them alphabetically.\n",
    "\n",
    "Suppose the following input is supplied to the program: without,hello,bag,world <br>\n",
    "Then, the output should be: bag,hello,without,world"
   ]
  },
  {
   "cell_type": "code",
   "execution_count": null,
   "metadata": {},
   "outputs": [],
   "source": [
    "string_input = 'without,hello,bag,world'\n",
    "\n",
    "# write your code here:\n"
   ]
  },
  {
   "cell_type": "markdown",
   "metadata": {},
   "source": [
    "<b>Question</b>: Write a program, which will find all such numbers between X and Y (both included) such that each digit of the number is an even number. The numbers obtained should be printed in a comma-separated sequence on a single line.\n",
    "\n",
    "Suppose the following input is supplied to the program: 10,50 <br>\n",
    "Then, the output should be: 20,22,24,26,28,40,42,44,46,48"
   ]
  },
  {
   "cell_type": "code",
   "execution_count": null,
   "metadata": {},
   "outputs": [],
   "source": []
  }
 ],
 "metadata": {
  "kernelspec": {
   "display_name": "Python 3",
   "language": "python",
   "name": "python3"
  },
  "language_info": {
   "codemirror_mode": {
    "name": "ipython",
    "version": 3
   },
   "file_extension": ".py",
   "mimetype": "text/x-python",
   "name": "python",
   "nbconvert_exporter": "python",
   "pygments_lexer": "ipython3",
   "version": "3.12.4"
  }
 },
 "nbformat": 4,
 "nbformat_minor": 2
}
